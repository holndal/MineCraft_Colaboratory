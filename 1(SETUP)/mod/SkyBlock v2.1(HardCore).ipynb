{
  "nbformat": 4,
  "nbformat_minor": 0,
  "metadata": {
    "colab": {
      "name": "Minecraftサーバー構築(SkyBlock) のコピー",
      "provenance": [],
      "collapsed_sections": []
    },
    "kernelspec": {
      "name": "python3",
      "display_name": "Python 3"
    },
    "language_info": {
      "name": "python"
    }
  },
  "cells": [
    {
      "cell_type": "code",
      "execution_count": null,
      "metadata": {
        "id": "25SKS3TIk2aW"
      },
      "outputs": [],
      "source": [
        "!apt install openjdk-17-jre\n",
        "from google.colab import drive\n",
        "drive.mount(\"/minecraft/\")"
      ]
    },
    {
      "cell_type": "code",
      "source": [
        "!rm /minecraft/MyDrive/minecraft  -rf"
      ],
      "metadata": {
        "id": "WAtODk4FDxyj"
      },
      "execution_count": null,
      "outputs": []
    },
    {
      "cell_type": "code",
      "source": [
        "%cd /minecraft/MyDrive\n",
        "!mkdir minecraft\n",
        "%cd /minecraft/MyDrive/minecraft \n",
        "!mkdir world"
      ],
      "metadata": {
        "id": "yuup_kiSlPsa"
      },
      "execution_count": null,
      "outputs": []
    },
    {
      "cell_type": "code",
      "source": [
        "%cd /content\n",
        "!wget https://skyblock.net/download/SkyBlock-2.1-hc.zip\n",
        "!unzip -o SkyBlock-2.1-hc.zip\n",
        "%cd \"SkyBlock2.1 Hardcore\"\n",
        "!cp -rf * /minecraft/MyDrive/minecraft/world/"
      ],
      "metadata": {
        "id": "A0GuVG4FopMa"
      },
      "execution_count": null,
      "outputs": []
    },
    {
      "cell_type": "code",
      "source": [
        "# 1.12.2\n",
        "!wget https://launcher.mojang.com/v1/objects/886945bfb2b978778c3a0288fd7fab09d315b25f/server.jar"
      ],
      "metadata": {
        "id": "sAV6VsJrlSLj"
      },
      "execution_count": null,
      "outputs": []
    },
    {
      "cell_type": "code",
      "source": [
        "!java -Xmx1024M -Xms1024M -jar server.jar nogui"
      ],
      "metadata": {
        "id": "VGk3BHfKlmme"
      },
      "execution_count": null,
      "outputs": []
    },
    {
      "cell_type": "code",
      "source": [
        "!sed -i s/\"eula=false\"/\"eula=true\"/ eula.txt\n",
        "!sed -i s/\"enable-command-block=false\"/\"enable-command-block=true\"/ server.properties"
      ],
      "metadata": {
        "id": "70-T42Oql1C1"
      },
      "execution_count": null,
      "outputs": []
    },
    {
      "cell_type": "code",
      "source": [
        "drive.flush_and_unmount()"
      ],
      "metadata": {
        "id": "Clpxk6o6M0Fx"
      },
      "execution_count": null,
      "outputs": []
    }
  ]
}