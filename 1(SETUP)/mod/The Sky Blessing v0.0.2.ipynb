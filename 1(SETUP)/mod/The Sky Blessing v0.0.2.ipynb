{
  "nbformat": 4,
  "nbformat_minor": 0,
  "metadata": {
    "colab": {
      "name": "Minecraftサーバー構築(SkyBlock)",
      "provenance": [],
      "collapsed_sections": []
    },
    "kernelspec": {
      "name": "python3",
      "display_name": "Python 3"
    },
    "language_info": {
      "name": "python"
    }
  },
  "cells": [
    {
      "cell_type": "code",
      "execution_count": null,
      "metadata": {
        "id": "25SKS3TIk2aW"
      },
      "outputs": [],
      "source": [
        "!apt install openjdk-17-jre\n",
        "from google.colab import drive\n",
        "drive.mount(\"/minecraft/\")"
      ]
    },
    {
      "cell_type": "code",
      "source": [
        "!rm /minecraft/MyDrive/minecraft  -rf"
      ],
      "metadata": {
        "id": "WAtODk4FDxyj"
      },
      "execution_count": null,
      "outputs": []
    },
    {
      "cell_type": "code",
      "source": [
        "%cd /minecraft/MyDrive\n",
        "!mkdir minecraft\n",
        "%cd /minecraft/MyDrive/minecraft \n",
        "!mkdir world\n",
        "%cd /minecraft/MyDrive/minecraft/world\n",
        "!wget https://github.com/ProjectTSB/TheSkyBlessing/releases/download/v0.0.2/TheSkyBlessing.zip\n",
        "!unzip -o TheSkyBlessing.zip\n",
        "%cd /minecraft/MyDrive/minecraft "
      ],
      "metadata": {
        "id": "yuup_kiSlPsa"
      },
      "execution_count": null,
      "outputs": []
    },
    {
      "cell_type": "code",
      "source": [
        "# 1.17.1\n",
        "!wget https://launcher.mojang.com/v1/objects/a16d67e5807f57fc4e550299cf20226194497dc2/server.jar"
      ],
      "metadata": {
        "id": "sAV6VsJrlSLj"
      },
      "execution_count": null,
      "outputs": []
    },
    {
      "cell_type": "code",
      "source": [
        "!java -Xmx1024M -Xms1024M -jar server.jar nogui"
      ],
      "metadata": {
        "id": "VGk3BHfKlmme"
      },
      "execution_count": null,
      "outputs": []
    },
    {
      "cell_type": "code",
      "source": [
        "!sed -i s/\"eula=false\"/\"eula=true\"/ eula.txt\n",
        "!sed -i s/\"difficulty=easy\"/\"difficulty=normal\"/ server.properties\n",
        "!sed -i s/\"gamemode=survival\"/\"gamemode=adventure\"/ server.properties\n",
        "!sed -i s/\"require-resource-pack=false\"/\"qqqqqqqqqq\"/ server.properties\n",
        "!sed -i s/\"resource-pack=\"/\"resource-pack=https:\\/\\/github.com\\/ProjectTSB\\/TSB-ResourcePack\\/releases\\/download\\/v0.0.2\\/resources.zip\"/g server.properties\n",
        "!sed -i s/\"qqqqqqqqqq\"/\"require-resource-pack=true\"/ server.properties\n",
        "!sed -i s/\"enable-command-block=false\"/\"enable-command-block=true\"/ server.properties"
      ],
      "metadata": {
        "id": "70-T42Oql1C1"
      },
      "execution_count": null,
      "outputs": []
    },
    {
      "cell_type": "code",
      "source": [
        ""
      ],
      "metadata": {
        "id": "Clpxk6o6M0Fx"
      },
      "execution_count": null,
      "outputs": []
    }
  ]
}
