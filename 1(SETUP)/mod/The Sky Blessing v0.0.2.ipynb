{
  "nbformat": 4,
  "nbformat_minor": 0,
  "metadata": {
    "colab": {
      "name": "Minecraftサーバー構築(The SkyBlessing)",
      "provenance": [],
      "collapsed_sections": []
    },
    "kernelspec": {
      "name": "python3",
      "display_name": "Python 3"
    },
    "language_info": {
      "name": "python"
    }
  },
  "cells": [
    {
      "cell_type": "code",
      "execution_count": 1,
      "metadata": {
        "id": "25SKS3TIk2aW",
        "colab": {
          "base_uri": "https://localhost:8080/"
        },
        "outputId": "0051d8af-a719-46ca-af5c-e1bda5525663"
      },
      "outputs": [
        {
          "output_type": "stream",
          "name": "stdout",
          "text": [
            "Reading package lists... Done\n",
            "Building dependency tree       \n",
            "Reading state information... Done\n",
            "The following additional packages will be installed:\n",
            "  fonts-dejavu-core fonts-dejavu-extra libatk-wrapper-java\n",
            "  libatk-wrapper-java-jni libxxf86dga1 openjdk-17-jre-headless x11-utils\n",
            "Suggested packages:\n",
            "  libnss-mdns fonts-ipafont-gothic fonts-ipafont-mincho fonts-wqy-microhei\n",
            "  | fonts-wqy-zenhei fonts-indic mesa-utils\n",
            "The following NEW packages will be installed:\n",
            "  fonts-dejavu-core fonts-dejavu-extra libatk-wrapper-java\n",
            "  libatk-wrapper-java-jni libxxf86dga1 openjdk-17-jre openjdk-17-jre-headless\n",
            "  x11-utils\n",
            "0 upgraded, 8 newly installed, 0 to remove and 37 not upgraded.\n",
            "Need to get 46.9 MB of archives.\n",
            "After this operation, 204 MB of additional disk space will be used.\n",
            "Get:1 http://archive.ubuntu.com/ubuntu bionic/main amd64 libxxf86dga1 amd64 2:1.1.4-1 [13.7 kB]\n",
            "Get:2 http://archive.ubuntu.com/ubuntu bionic/main amd64 fonts-dejavu-core all 2.37-1 [1,041 kB]\n",
            "Get:3 http://archive.ubuntu.com/ubuntu bionic/main amd64 fonts-dejavu-extra all 2.37-1 [1,953 kB]\n",
            "Get:4 http://archive.ubuntu.com/ubuntu bionic/main amd64 x11-utils amd64 7.7+3build1 [196 kB]\n",
            "Get:5 http://archive.ubuntu.com/ubuntu bionic/main amd64 libatk-wrapper-java all 0.33.3-20ubuntu0.1 [34.7 kB]\n",
            "Get:6 http://archive.ubuntu.com/ubuntu bionic/main amd64 libatk-wrapper-java-jni amd64 0.33.3-20ubuntu0.1 [28.3 kB]\n",
            "Get:7 http://archive.ubuntu.com/ubuntu bionic-updates/universe amd64 openjdk-17-jre-headless amd64 17.0.1+12-1~18.04 [43.4 MB]\n",
            "Get:8 http://archive.ubuntu.com/ubuntu bionic-updates/universe amd64 openjdk-17-jre amd64 17.0.1+12-1~18.04 [165 kB]\n",
            "Fetched 46.9 MB in 4s (13.4 MB/s)\n",
            "Selecting previously unselected package libxxf86dga1:amd64.\n",
            "(Reading database ... 155229 files and directories currently installed.)\n",
            "Preparing to unpack .../0-libxxf86dga1_2%3a1.1.4-1_amd64.deb ...\n",
            "Unpacking libxxf86dga1:amd64 (2:1.1.4-1) ...\n",
            "Selecting previously unselected package fonts-dejavu-core.\n",
            "Preparing to unpack .../1-fonts-dejavu-core_2.37-1_all.deb ...\n",
            "Unpacking fonts-dejavu-core (2.37-1) ...\n",
            "Selecting previously unselected package fonts-dejavu-extra.\n",
            "Preparing to unpack .../2-fonts-dejavu-extra_2.37-1_all.deb ...\n",
            "Unpacking fonts-dejavu-extra (2.37-1) ...\n",
            "Selecting previously unselected package x11-utils.\n",
            "Preparing to unpack .../3-x11-utils_7.7+3build1_amd64.deb ...\n",
            "Unpacking x11-utils (7.7+3build1) ...\n",
            "Selecting previously unselected package libatk-wrapper-java.\n",
            "Preparing to unpack .../4-libatk-wrapper-java_0.33.3-20ubuntu0.1_all.deb ...\n",
            "Unpacking libatk-wrapper-java (0.33.3-20ubuntu0.1) ...\n",
            "Selecting previously unselected package libatk-wrapper-java-jni:amd64.\n",
            "Preparing to unpack .../5-libatk-wrapper-java-jni_0.33.3-20ubuntu0.1_amd64.deb ...\n",
            "Unpacking libatk-wrapper-java-jni:amd64 (0.33.3-20ubuntu0.1) ...\n",
            "Selecting previously unselected package openjdk-17-jre-headless:amd64.\n",
            "Preparing to unpack .../6-openjdk-17-jre-headless_17.0.1+12-1~18.04_amd64.deb ...\n",
            "Unpacking openjdk-17-jre-headless:amd64 (17.0.1+12-1~18.04) ...\n",
            "Selecting previously unselected package openjdk-17-jre:amd64.\n",
            "Preparing to unpack .../7-openjdk-17-jre_17.0.1+12-1~18.04_amd64.deb ...\n",
            "Unpacking openjdk-17-jre:amd64 (17.0.1+12-1~18.04) ...\n",
            "Setting up fonts-dejavu-core (2.37-1) ...\n",
            "Setting up openjdk-17-jre-headless:amd64 (17.0.1+12-1~18.04) ...\n",
            "update-alternatives: using /usr/lib/jvm/java-17-openjdk-amd64/bin/java to provide /usr/bin/java (java) in auto mode\n",
            "update-alternatives: using /usr/lib/jvm/java-17-openjdk-amd64/bin/jpackage to provide /usr/bin/jpackage (jpackage) in auto mode\n",
            "update-alternatives: using /usr/lib/jvm/java-17-openjdk-amd64/bin/keytool to provide /usr/bin/keytool (keytool) in auto mode\n",
            "update-alternatives: using /usr/lib/jvm/java-17-openjdk-amd64/bin/rmiregistry to provide /usr/bin/rmiregistry (rmiregistry) in auto mode\n",
            "update-alternatives: using /usr/lib/jvm/java-17-openjdk-amd64/lib/jexec to provide /usr/bin/jexec (jexec) in auto mode\n",
            "Setting up libxxf86dga1:amd64 (2:1.1.4-1) ...\n",
            "Setting up fonts-dejavu-extra (2.37-1) ...\n",
            "Setting up openjdk-17-jre:amd64 (17.0.1+12-1~18.04) ...\n",
            "Setting up x11-utils (7.7+3build1) ...\n",
            "Setting up libatk-wrapper-java (0.33.3-20ubuntu0.1) ...\n",
            "Setting up libatk-wrapper-java-jni:amd64 (0.33.3-20ubuntu0.1) ...\n",
            "Processing triggers for man-db (2.8.3-2ubuntu0.1) ...\n",
            "Processing triggers for hicolor-icon-theme (0.17-2) ...\n",
            "Processing triggers for fontconfig (2.12.6-0ubuntu2) ...\n",
            "Processing triggers for mime-support (3.60ubuntu1) ...\n",
            "Processing triggers for libc-bin (2.27-3ubuntu1.3) ...\n",
            "/sbin/ldconfig.real: /usr/local/lib/python3.7/dist-packages/ideep4py/lib/libmkldnn.so.0 is not a symbolic link\n",
            "\n",
            "Mounted at /minecraft/\n"
          ]
        }
      ],
      "source": [
        "!apt install openjdk-17-jre &\n",
        "from google.colab import drive\n",
        "drive.mount(\"/minecraft/\")"
      ]
    },
    {
      "cell_type": "code",
      "source": [
        "!rm /minecraft/MyDrive/minecraft  -rf"
      ],
      "metadata": {
        "id": "WAtODk4FDxyj"
      },
      "execution_count": null,
      "outputs": []
    },
    {
      "cell_type": "code",
      "source": [
        "%cd /minecraft/MyDrive\n",
        "!mkdir minecraft\n",
        "%cd /minecraft/MyDrive/minecraft \n",
        "# 1.17.1\n",
        "!wget https://launcher.mojang.com/v1/objects/a16d67e5807f57fc4e550299cf20226194497dc2/server.jar &\n",
        "!mkdir world\n",
        "%cd /minecraft/MyDrive/minecraft/world\n",
        "!wget https://github.com/ProjectTSB/TheSkyBlessing/releases/download/v0.0.2/TheSkyBlessing.zip\n",
        "!unzip -o TheSkyBlessing.zip\n",
        "%cd /minecraft/MyDrive/minecraft "
      ],
      "metadata": {
        "id": "yuup_kiSlPsa"
      },
      "execution_count": null,
      "outputs": []
    },
    {
      "cell_type": "code",
      "source": [
        "wait "
      ],
      "metadata": {
        "id": "D-M8cQ5DzDQd"
      },
      "execution_count": null,
      "outputs": []
    },
    {
      "cell_type": "code",
      "source": [
        "!java -Xmx1024M -Xms1024M -jar server.jar nogui"
      ],
      "metadata": {
        "id": "VGk3BHfKlmme"
      },
      "execution_count": null,
      "outputs": []
    },
    {
      "cell_type": "code",
      "source": [
        "!sed -i s/\"eula=false\"/\"eula=true\"/ eula.txt\n",
        "!sed -i s/\"difficulty=easy\"/\"difficulty=normal\"/ server.properties\n",
        "!sed -i s/\"gamemode=survival\"/\"gamemode=adventure\"/ server.properties\n",
        "!sed -i s/\"require-resource-pack=false\"/\"qqqqqqqqqq\"/ server.properties\n",
        "!sed -i s/\"resource-pack=\"/\"resource-pack=https:\\/\\/github.com\\/ProjectTSB\\/TSB-ResourcePack\\/releases\\/download\\/v0.0.2\\/resources.zip\"/g server.properties\n",
        "!sed -i s/\"qqqqqqqqqq\"/\"require-resource-pack=true\"/ server.properties\n",
        "!sed -i s/\"enable-command-block=false\"/\"enable-command-block=true\"/ server.properties"
      ],
      "metadata": {
        "id": "70-T42Oql1C1"
      },
      "execution_count": null,
      "outputs": []
    },
    {
      "cell_type": "code",
      "source": [
        ""
      ],
      "metadata": {
        "id": "Clpxk6o6M0Fx"
      },
      "execution_count": null,
      "outputs": []
    }
  ]
}
