{
  "nbformat": 4,
  "nbformat_minor": 0,
  "metadata": {
    "colab": {
      "name": "Minecraftサーバー構築(The Sky Blessing)",
      "provenance": [],
      "collapsed_sections": []
    },
    "kernelspec": {
      "name": "python3",
      "display_name": "Python 3"
    },
    "language_info": {
      "name": "python"
    }
  },
  "cells": [
    {
      "cell_type": "code",
      "execution_count": null,
      "metadata": {
        "id": "25SKS3TIk2aW"
      },
      "outputs": [],
      "source": [
        "!apt install openjdk-17-jre &\n",
        "from google.colab import drive\n",
        "drive.mount(\"/minecraft/\")"
      ]
    },
    {
      "cell_type": "code",
      "source": [
        "!rm /minecraft/MyDrive/minecraft  -rf"
      ],
      "metadata": {
        "id": "WAtODk4FDxyj"
      },
      "execution_count": null,
      "outputs": []
    },
    {
      "cell_type": "code",
      "source": [
        "%cd /minecraft/MyDrive\n",
        "!mkdir minecraft\n",
        "%cd /minecraft/MyDrive/minecraft \n",
        "# 1.17.1\n",
        "!wget https://launcher.mojang.com/v1/objects/a16d67e5807f57fc4e550299cf20226194497dc2/server.jar &\n",
        "!mkdir world\n",
        "%cd /minecraft/MyDrive/minecraft/world\n",
        "!wget https://github.com/ProjectTSB/TheSkyBlessing/releases/download/v0.0.2/TheSkyBlessing.zip\n",
        "!unzip -o TheSkyBlessing.zip"
      ],
      "metadata": {
        "id": "yuup_kiSlPsa"
      },
      "execution_count": null,
      "outputs": []
    },
    {
      "cell_type": "code",
      "source": [
        "!wait "
      ],
      "metadata": {
        "id": "D-M8cQ5DzDQd"
      },
      "execution_count": null,
      "outputs": []
    },
    {
      "cell_type": "code",
      "source": [
        "%cd /minecraft/MyDrive/minecraft \n",
        "!java -Xmx1024M -Xms1024M -jar server.jar nogui"
      ],
      "metadata": {
        "id": "VGk3BHfKlmme"
      },
      "execution_count": null,
      "outputs": []
    },
    {
      "cell_type": "code",
      "source": [
        "settings=\"\"\"#Minecraft server properties\n",
        "#Thu Jan 13 16:00:59 UTC 2022\n",
        "broadcast-rcon-to-ops=true\n",
        "view-distance=10\n",
        "enable-jmx-monitoring=false\n",
        "server-ip=\n",
        "resource-pack-prompt=\n",
        "rcon.port=25575\n",
        "gamemode=adventure\n",
        "server-port=25565\n",
        "allow-nether=true\n",
        "enable-command-block=true\n",
        "enable-rcon=false\n",
        "sync-chunk-writes=true\n",
        "enable-query=false\n",
        "op-permission-level=4\n",
        "prevent-proxy-connections=false\n",
        "resource-pack=https://github.com/ProjectTSB/TSB-ResourcePack/releases/download/v0.0.2/resources.zip\n",
        "entity-broadcast-range-percentage=100\n",
        "level-name=world\n",
        "rcon.password=\n",
        "player-idle-timeout=0\n",
        "motd=A Minecraft Server\n",
        "query.port=25565\n",
        "force-gamemode=false\n",
        "rate-limit=0\n",
        "hardcore=false\n",
        "white-list=false\n",
        "broadcast-console-to-ops=true\n",
        "pvp=true\n",
        "spawn-npcs=true\n",
        "spawn-animals=true\n",
        "snooper-enabled=true\n",
        "difficulty=normal\n",
        "function-permission-level=2\n",
        "network-compression-threshold=256\n",
        "text-filtering-config=\n",
        "require-resource-pack=true\n",
        "spawn-monsters=true\n",
        "max-tick-time=60000\n",
        "enforce-whitelist=false\n",
        "use-native-transport=true\n",
        "max-players=20\n",
        "resource-pack-sha1=\n",
        "spawn-protection=16\n",
        "online-mode=true\n",
        "enable-status=true\n",
        "allow-flight=false\n",
        "max-world-size=29999984\n",
        "\"\"\"\n",
        "with open(\"/minecraft/MyDrive/minecraft/server.properties\", \"w\") as f:\n",
        "  f.write(settings)"
      ],
      "metadata": {
        "id": "70-T42Oql1C1"
      },
      "execution_count": null,
      "outputs": []
    },
    {
      "cell_type": "code",
      "source": [
        "with open(\"/minecraft/MyDrive/minecraft/eula.txt\", \"w\") as f:\n",
        "  f.write(\"eula=true\")"
      ],
      "metadata": {
        "id": "W34VEAt0KPW3"
      },
      "execution_count": null,
      "outputs": []
    },
    {
      "cell_type": "code",
      "source": [
        "print(\"サーバーの初期設定は完了です。右上の▼>セッションの管理からこのセッションを終了してサーバー起動へ移行してください\")"
      ],
      "metadata": {
        "id": "gNPGRH1SMF4Q"
      },
      "execution_count": null,
      "outputs": []
    },
    {
      "cell_type": "code",
      "source": [
        "drive.flush_and_unmount()"
      ],
      "metadata": {
        "id": "8nNtvDtWNnzT"
      },
      "execution_count": null,
      "outputs": []
    }
  ]
}
