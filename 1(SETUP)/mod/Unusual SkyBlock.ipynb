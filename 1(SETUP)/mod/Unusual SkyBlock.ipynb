{
  "nbformat": 4,
  "nbformat_minor": 0,
  "metadata": {
    "colab": {
      "name": "Minecraftサーバー構築(SkyBlock) のコピー",
      "provenance": [],
      "collapsed_sections": []
    },
    "kernelspec": {
      "name": "python3",
      "display_name": "Python 3"
    },
    "language_info": {
      "name": "python"
    }
  },
  "cells": [
    {
      "cell_type": "code",
      "execution_count": null,
      "metadata": {
        "id": "25SKS3TIk2aW"
      },
      "outputs": [],
      "source": [
        "!apt install openjdk-17-jre\n",
        "from google.colab import drive\n",
        "drive.mount(\"/minecraft/\")"
      ]
    },
    {
      "cell_type": "code",
      "source": [
        "from google.colab import files"
      ],
      "metadata": {
        "id": "m-lS_v5js2f6"
      },
      "execution_count": null,
      "outputs": []
    },
    {
      "cell_type": "code",
      "source": [
        "!rm /minecraft/MyDrive/minecraft  -rf"
      ],
      "metadata": {
        "id": "WAtODk4FDxyj"
      },
      "execution_count": null,
      "outputs": []
    },
    {
      "cell_type": "code",
      "source": [
        "%cd /minecraft/MyDrive\n",
        "!mkdir minecraft\n",
        "%cd /minecraft/MyDrive/minecraft \n",
        "!mkdir world\n",
        "%cd world"
      ],
      "metadata": {
        "id": "yuup_kiSlPsa"
      },
      "execution_count": null,
      "outputs": []
    },
    {
      "cell_type": "code",
      "source": [
        "print(\"こちらからファイルをダウンロードした後、Google Colabにファイルをアップロードしてください\")\n",
        "print(\"The Unusual SkyBlock v12.0.9.zip\")\n",
        "print(\"https://cloud.skyblock.jp/index.php/s/NFGPMtNPoY3XHoX\")\n",
        "files.upload()"
      ],
      "metadata": {
        "id": "v4Q-JQyRsqMh"
      },
      "execution_count": null,
      "outputs": []
    },
    {
      "cell_type": "code",
      "source": [
        "!unzip \"The Unusual SkyBlock v12.0.9.zip\""
      ],
      "metadata": {
        "id": "26Fytm-QtHyP"
      },
      "execution_count": null,
      "outputs": []
    },
    {
      "cell_type": "code",
      "source": [
        "%cd world"
      ],
      "metadata": {
        "id": "TYzwHA_MtH8P"
      },
      "execution_count": null,
      "outputs": []
    },
    {
      "cell_type": "code",
      "source": [
        "# 1.10.2\n",
        "!wget https://launcher.mojang.com/v1/objects/3d501b23df53c548254f5e3f66492d178a48db63/server.jar"
      ],
      "metadata": {
        "id": "sAV6VsJrlSLj"
      },
      "execution_count": null,
      "outputs": []
    },
    {
      "cell_type": "code",
      "source": [
        "!java -Xmx1024M -Xms1024M -jar server.jar nogui"
      ],
      "metadata": {
        "id": "VGk3BHfKlmme"
      },
      "execution_count": null,
      "outputs": []
    },
    {
      "cell_type": "code",
      "source": [
        "!sed -i s/\"eula=false\"/\"eula=true\"/ eula.txt\n",
        "!sed -i s/\"enable-command-block=false\"/\"enable-command-block=true\"/ server.properties"
      ],
      "metadata": {
        "id": "70-T42Oql1C1"
      },
      "execution_count": null,
      "outputs": []
    },
    {
      "cell_type": "code",
      "source": [
        "drive.flush_and_unmount()"
      ],
      "metadata": {
        "id": "Clpxk6o6M0Fx"
      },
      "execution_count": null,
      "outputs": []
    }
  ]
}