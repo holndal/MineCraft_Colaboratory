{
  "nbformat": 4,
  "nbformat_minor": 0,
  "metadata": {
    "colab": {
      "name": "Minecraftサーバー構築(バニラサーバー)",
      "provenance": [],
      "collapsed_sections": []
    },
    "kernelspec": {
      "name": "python3",
      "display_name": "Python 3"
    },
    "language_info": {
      "name": "python"
    }
  },
  "cells": [
    {
      "cell_type": "code",
      "execution_count": null,
      "metadata": {
        "id": "25SKS3TIk2aW"
      },
      "outputs": [],
      "source": [
        "!apt install openjdk-17-jre\n",
        "from google.colab import drive\n",
        "import urllib.request"
      ]
    },
    {
      "cell_type": "code",
      "source": [
        "drive.mount(\"/minecraft/\")\n",
        "%cd /minecraft/MyDrive\n",
        "!rm /minecraft/MyDrive/minecraft -rf\n",
        "!mkdir minecraft\n",
        "%cd minecraft "
      ],
      "metadata": {
        "id": "yuup_kiSlPsa"
      },
      "execution_count": null,
      "outputs": []
    },
    {
      "cell_type": "code",
      "source": [
        "while(1):\n",
        "  url = input(\"minecraft serverのurlを入力してください※何も入力しなかった場合1.18.1サーバーが選択されます。\")\n",
        "  if url == \"\":\n",
        "    print(\"URLが入力されなかったので1.18.1サーバーをインストールします。\")\n",
        "    url = 'https://launcher.mojang.com/v1/objects/125e5adf40c659fd3bce3e66e67a16bb49ecc1b9/server.jar'\n",
        "  try:\n",
        "    with urllib.request.urlopen(url) as u:\n",
        "      with open('server.jar', 'bw') as o:\n",
        "        o.write(u.read())\n",
        "        break\n",
        "  except Exception as e:\n",
        "    print(\"正しくダウンロードができませんでした。\"+str(e))\n",
        "    print(\"https://mcversions.net/\")\n",
        "    print(\"こちらからDownload Server jarのリンクを取得して再度お試しください\")"
      ],
      "metadata": {
        "id": "ChJ305yvmBaY"
      },
      "execution_count": null,
      "outputs": []
    },
    {
      "cell_type": "code",
      "source": [
        "print(\"Minecraft Server Version\")\n",
        "!unzip -p server.jar version.json | grep \"name\""
      ],
      "metadata": {
        "id": "pErTdA6cnIIu"
      },
      "execution_count": null,
      "outputs": []
    },
    {
      "cell_type": "code",
      "source": [
        "!java -Xmx1024M -Xms1024M -jar server.jar nogui"
      ],
      "metadata": {
        "id": "VGk3BHfKlmme"
      },
      "execution_count": null,
      "outputs": []
    },
    {
      "cell_type": "code",
      "source": [
        "!sed -i -e s/\"eula=false\"/\"eula=true\"/ eula.txt"
      ],
      "metadata": {
        "id": "70-T42Oql1C1"
      },
      "execution_count": null,
      "outputs": []
    },
    {
      "cell_type": "code",
      "source": [
        "drive.flush_and_unmount()"
      ],
      "metadata": {
        "id": "UkS6DpcRdr_W"
      },
      "execution_count": null,
      "outputs": []
    }
  ]
}