{
  "nbformat": 4,
  "nbformat_minor": 0,
  "metadata": {
    "colab": {
      "name": "Minecraft サーバー起動(2回目以降)",
      "provenance": [],
      "collapsed_sections": []
    },
    "kernelspec": {
      "name": "python3",
      "display_name": "Python 3"
    },
    "language_info": {
      "name": "python"
    }
  },
  "cells": [
    {
      "cell_type": "code",
      "source": [
        "# NGROKのauthtoken\n",
        "# https://dashboard.ngrok.com/get-started/your-authtoken\n",
        "authtoken = input(\"NGROKのauthtokenを入力してください\")"
      ],
      "metadata": {
        "id": "t1hj0P5CnVXr"
      },
      "execution_count": null,
      "outputs": []
    },
    {
      "cell_type": "code",
      "execution_count": null,
      "metadata": {
        "id": "T88WLipknQ36"
      },
      "outputs": [],
      "source": [
        "!apt install openjdk-17-jre"
      ]
    },
    {
      "cell_type": "code",
      "source": [
        "from google.colab import drive\n",
        "drive.mount(\"/minecraft/\")\n",
        "%cd /minecraft/MyDrive/minecraft"
      ],
      "metadata": {
        "id": "khQN2xWSnbxy"
      },
      "execution_count": null,
      "outputs": []
    },
    {
      "cell_type": "code",
      "source": [
        "print(\"Minecraft Server Version\")\n",
        "!unzip -p server.jar version.json | grep \"name\""
      ],
      "metadata": {
        "id": "il6rwdtRnaOj"
      },
      "execution_count": null,
      "outputs": []
    },
    {
      "cell_type": "code",
      "source": [
        "!pip -q install pyngrok\n",
        "from pyngrok import conf, ngrok\n",
        "! ngrok authtoken $authtoken\n",
        "conf.get_default().region = 'jp'"
      ],
      "metadata": {
        "id": "wndKdUYznUFz"
      },
      "execution_count": null,
      "outputs": []
    },
    {
      "cell_type": "code",
      "source": [
        "url = ngrok.connect(25565, 'tcp')\n",
        "print(((str(url).split('\"')[1::2])[0]).replace('tcp://', ''))"
      ],
      "metadata": {
        "id": "PvZpY3dpnm25"
      },
      "execution_count": null,
      "outputs": []
    },
    {
      "cell_type": "code",
      "source": [
        "!java -Xmx1024M -Xms1024M -jar server.jar nogui"
      ],
      "metadata": {
        "id": "irwrsf6enj3x"
      },
      "execution_count": null,
      "outputs": []
    },
    {
      "cell_type": "code",
      "source": [
        ""
      ],
      "metadata": {
        "id": "SnOJnZIckwaf"
      },
      "execution_count": null,
      "outputs": []
    }
  ]
}